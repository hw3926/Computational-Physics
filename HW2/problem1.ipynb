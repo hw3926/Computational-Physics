{
 "cells": [
  {
   "cell_type": "code",
   "execution_count": 17,
   "id": "e1dbdb3a-2a95-4d45-a063-90b4f7c2303c",
   "metadata": {},
   "outputs": [
    {
     "name": "stdout",
     "output_type": "stream",
     "text": [
      "Relaxation: root ≈ 0.796813, iterations = 14, error estimate ≈ 5.01e-07\n",
      "Overrelaxation (ω=0.1): root ≈ 0.796813, iterations = 12, error estimate ≈ 4.30e-07\n",
      "Overrelaxation (ω=0.2): root ≈ 0.796813, iterations = 10, error estimate ≈ 5.00e-07\n",
      "Overrelaxation (ω=0.3): root ≈ 0.796813, iterations = 8, error estimate ≈ 8.12e-07\n",
      "Overrelaxation (ω=0.4): root ≈ 0.796812, iterations = 7, error estimate ≈ 3.01e-07\n",
      "Overrelaxation (ω=0.5): root ≈ 0.796812, iterations = 4, error estimate ≈ 2.43e-07\n",
      "Overrelaxation (ω=0.6): root ≈ 0.796812, iterations = 5, error estimate ≈ 1.01e-07\n",
      "Overrelaxation (ω=0.7): root ≈ 0.796812, iterations = 4, error estimate ≈ 2.16e-08\n",
      "Overrelaxation (ω=0.8): root ≈ 0.796812, iterations = 5, error estimate ≈ 5.04e-07\n",
      "Overrelaxation (ω=0.9): root ≈ 0.796812, iterations = 7, error estimate ≈ 1.60e-07\n",
      "Overrelaxation (ω=1.0): root ≈ 0.796813, iterations = 8, error estimate ≈ 3.90e-07\n",
      "Overrelaxation (ω=1.1): root ≈ 0.796811, iterations = 9, error estimate ≈ 8.09e-07\n"
     ]
    }
   ],
   "source": [
    "import numpy as np\n",
    "\n",
    "# Define function and derivative\n",
    "def f(x, c=2):\n",
    "    return 1 - np.exp(-c*x)\n",
    "\n",
    "def fprime(x, c=2):\n",
    "    return c * np.exp(-c*x)\n",
    "\n",
    "# Ordinary relaxation with error estimate\n",
    "def relax(c=2, tol=1e-6, max_iter=10000):\n",
    "    x = 1.0\n",
    "    for n in range(max_iter):\n",
    "        x_new = f(x, c)\n",
    "        fp = fprime(x_new, c)\n",
    "        err_est = abs((x - x_new) / (1 - 1/fp))\n",
    "        if abs(err_est) < tol:\n",
    "            return x_new, n+1, err_est\n",
    "        x = x_new\n",
    "        # print(x_new)\n",
    "    return x, max_iter, err_est\n",
    "\n",
    "# Overrelaxation with error estimate\n",
    "def overrelax(c=2, omega=1.5, tol=1e-6, max_iter=10000, verbose=False):\n",
    "    x = 1.0\n",
    "    for n in range(max_iter):\n",
    "        x_new = x + (1+omega)*(f(x, c) - x)\n",
    "        fp = fprime(x_new, c)\n",
    "        factor = (1 + omega)*fp - omega \n",
    "        err_est = abs((x - x_new) / (1 - 1/factor))\n",
    "        if abs(err_est) < tol:\n",
    "            return x_new, n+1, err_est\n",
    "        x = x_new\n",
    "        if verbose:\n",
    "            print(x_new)\n",
    "    return x, max_iter, err_est\n",
    "\n",
    "root_relax, it_relax, err_relax = relax(c=2)\n",
    "print(f\"Relaxation: root ≈ {root_relax:.6f}, iterations = {it_relax}, error estimate ≈ {err_relax:.2e}\")\n",
    "\n",
    "for omega in np.arange(0.1,1.2,0.1):\n",
    "    root_over, it_over, err_over = overrelax(c=2, omega=omega)\n",
    "    print(f\"Overrelaxation (ω={omega:.1f}): root ≈ {root_over:.6f}, iterations = {it_over}, error estimate ≈ {err_over:.2e}\")\n"
   ]
  },
  {
   "cell_type": "code",
   "execution_count": null,
   "id": "5aff034d-7b98-430c-81e2-879259cf16ae",
   "metadata": {},
   "outputs": [],
   "source": []
  }
 ],
 "metadata": {
  "kernelspec": {
   "display_name": "cmp_phy",
   "language": "python",
   "name": "cmp_phy"
  },
  "language_info": {
   "codemirror_mode": {
    "name": "ipython",
    "version": 3
   },
   "file_extension": ".py",
   "mimetype": "text/x-python",
   "name": "python",
   "nbconvert_exporter": "python",
   "pygments_lexer": "ipython3",
   "version": "3.10.18"
  }
 },
 "nbformat": 4,
 "nbformat_minor": 5
}
