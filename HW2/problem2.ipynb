{
 "cells": [
  {
   "cell_type": "code",
   "execution_count": 1,
   "id": "64cc655a-b59b-481b-ad0f-947c90d30bd9",
   "metadata": {},
   "outputs": [
    {
     "name": "stdout",
     "output_type": "stream",
     "text": [
      "Root of equation (x): 4.965114\n",
      "Wien displacement constant (b): 2.897772e-03 m·K\n",
      "Estimated Sun surface temperature: 5772.45 K\n"
     ]
    }
   ],
   "source": [
    "import numpy as np\n",
    "\n",
    "def equation(x):\n",
    "    return 5 * np.exp(-x) + x - 5\n",
    "\n",
    "def binary(tol=1e-6, left=1.0, right=10.0):\n",
    "\n",
    "    f_left, f_right = equation(left), equation(right)\n",
    "\n",
    "    if f_left * f_right > 0:\n",
    "        raise ValueError(\"No root in this interval\")\n",
    "\n",
    "    while (right - left) > tol:\n",
    "        mid = 0.5 * (left + right)\n",
    "        f_mid = equation(mid)\n",
    "\n",
    "        if f_left * f_mid <= 0:\n",
    "            right, f_right = mid, f_mid\n",
    "        else:\n",
    "            left, f_left = mid, f_mid\n",
    "\n",
    "    return 0.5 * (left + right)\n",
    "\n",
    "def compute_wien_constant(lambda_peak=502e-9):\n",
    "    # Physical constants (SI units)\n",
    "    h  = 6.62607015e-34   # Planck constant [J·s]\n",
    "    c  = 2.99792458e8     # Speed of light [m/s]\n",
    "    kB = 1.380649e-23     # Boltzmann constant [J/K]\n",
    "\n",
    "\n",
    "    x = binary()\n",
    "    b = (h * c) / (kB * x)\n",
    "\n",
    "    T_sun = b / lambda_peak\n",
    "\n",
    "    return x, b, T_sun\n",
    "\n",
    "x, b, T_sun = compute_wien_constant()\n",
    "\n",
    "print(f\"Root of equation (x): {x:.6f}\")\n",
    "print(f\"Wien displacement constant (b): {b:.6e} m·K\")\n",
    "print(f\"Estimated Sun surface temperature: {T_sun:.2f} K\")\n"
   ]
  },
  {
   "cell_type": "code",
   "execution_count": null,
   "id": "b9095f9a-2af3-46fa-befd-47e82f6b3e5b",
   "metadata": {},
   "outputs": [],
   "source": []
  }
 ],
 "metadata": {
  "kernelspec": {
   "display_name": "cmp_phy",
   "language": "python",
   "name": "cmp_phy"
  },
  "language_info": {
   "codemirror_mode": {
    "name": "ipython",
    "version": 3
   },
   "file_extension": ".py",
   "mimetype": "text/x-python",
   "name": "python",
   "nbconvert_exporter": "python",
   "pygments_lexer": "ipython3",
   "version": "3.10.18"
  }
 },
 "nbformat": 4,
 "nbformat_minor": 5
}
